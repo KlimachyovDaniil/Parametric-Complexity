{
  "nbformat": 4,
  "nbformat_minor": 0,
  "metadata": {
    "colab": {
      "provenance": [],
      "authorship_tag": "ABX9TyNw2nwgSXTCOFwVrMZtgZeD",
      "include_colab_link": true
    },
    "kernelspec": {
      "name": "python3",
      "display_name": "Python 3"
    },
    "language_info": {
      "name": "python"
    }
  },
  "cells": [
    {
      "cell_type": "markdown",
      "metadata": {
        "id": "view-in-github",
        "colab_type": "text"
      },
      "source": [
        "<a href=\"https://colab.research.google.com/github/KlimachyovDaniil/Parametric-Complexity/blob/main/L1_determinated_algo.ipynb\" target=\"_parent\"><img src=\"https://colab.research.google.com/assets/colab-badge.svg\" alt=\"Open In Colab\"/></a>"
      ]
    },
    {
      "cell_type": "code",
      "source": [
        "import numpy as np\n",
        "import matplotlib.pyplot as plt"
      ],
      "metadata": {
        "id": "mRvKNoZZhqNd"
      },
      "execution_count": 1,
      "outputs": []
    },
    {
      "cell_type": "code",
      "source": [
        "'''\n",
        "Класс линейного множителя\n",
        "Первое поле хранит номера ненулевых переменных и их коээфициент\n",
        "Второе поле хранит свободный член, поскольку при подстановке\n",
        "конкретного значения могут появится множитель вида x_i - c '''\n",
        "class Linear_multiplier:\n",
        "    def __init__(self, list_of_coefficients):\n",
        "        self.non_zeros_coefficions = {ind:coef for ind, coef in enumerate(list_of_coefficients) if coef != 0}\n",
        "        self.const = 0\n",
        "\n",
        "\n",
        "'''Функция для поиска запретов и нахождения наименьшего элемента'''\n",
        "def eliminate_variable(list_of_multipliers, x_i):\n",
        "  m = len(list_of_multipliers)\n",
        "  list_of_restrictions = set()\n",
        "  for multiplier in list_of_multipliers:\n",
        "    if len(multiplier.non_zeros_coefficions) == 1:\n",
        "      if multiplier.non_zeros_coefficions.get(x_i, 'skip') != 'skip':\n",
        "        list_of_restrictions.add(multiplier.const/multiplier.non_zeros_coefficions[x_i])\n",
        "  allowed_elements = set(range(-m, m+1))\n",
        "  for elem in list_of_restrictions:\n",
        "    allowed_elements.discard(elem)\n",
        "  min_elem = m\n",
        "  for i in allowed_elements:\n",
        "    if abs(i) < abs(min_elem):\n",
        "      min_elem = i\n",
        "  for multiplier in list_of_multipliers:\n",
        "    if multiplier.non_zeros_coefficions.get(x_i, 'skip') != 'skip':\n",
        "      multiplier.const += -min_elem * multiplier.non_zeros_coefficions[x_i]\n",
        "      del multiplier.non_zeros_coefficions[x_i]\n",
        "  return min_elem\n",
        "\n",
        "\n",
        "'''Функция для построения вектора'''\n",
        "def determinated_l1_algo_v2(list_of_multipliers):\n",
        "  m, n = len(list_of_multipliers), len(list_of_multipliers[0])\n",
        "  vectors = []\n",
        "  for i in range(m):\n",
        "    vectors.append(Linear_multiplier(list_of_multipliers[i]))\n",
        "  vector = [0] * n\n",
        "  for x_i in range(n):\n",
        "    vector[x_i] = eliminate_variable(vectors, x_i)\n",
        "  return vector\n",
        "\n",
        "n, m = 3, 80\n",
        "vectors = np.random.randint(-2,2, size=(m,n))\n",
        "answer = determinated_l1_algo_v2(vectors)"
      ],
      "metadata": {
        "id": "CSFLomMmhgqw"
      },
      "execution_count": 2,
      "outputs": []
    },
    {
      "cell_type": "code",
      "source": [
        "def test(n, m, num_tests=1000):\n",
        "  for i in range(num_tests):\n",
        "    while True:\n",
        "      vectors = np.random.randint(-m,m+1, size=(m,n))\n",
        "      vectors = vectors[~np.all(vectors==0, axis=1)]\n",
        "      if len(vectors) == m:\n",
        "        break\n",
        "    vector = determinated_l1_algo_v2(vectors)\n",
        "    if np.any(np.isclose(np.dot(vectors, vector),0)):\n",
        "      print('Not passed')\n",
        "      break\n",
        "  print('All tests passed')"
      ],
      "metadata": {
        "id": "hc5S-tkAhjQF"
      },
      "execution_count": 3,
      "outputs": []
    },
    {
      "cell_type": "code",
      "source": [
        "test(1000,5)\n",
        "test(10,1000)\n",
        "test(1,1)"
      ],
      "metadata": {
        "colab": {
          "base_uri": "https://localhost:8080/"
        },
        "id": "-abAWFHKhk5E",
        "outputId": "f8d7699e-944e-42f5-cb82-7e8895c728d5"
      },
      "execution_count": null,
      "outputs": [
        {
          "output_type": "stream",
          "name": "stdout",
          "text": [
            "All tests passed\n"
          ]
        }
      ]
    },
    {
      "cell_type": "code",
      "execution_count": null,
      "metadata": {
        "id": "m4jhFDI5hToo"
      },
      "outputs": [],
      "source": [
        "def generate_vector(n, M):\n",
        "    \"\"\"Генерация случайного целочисленного вектора размерности n с ограничением нормы M.\"\"\"\n",
        "    return np.random.randint(-M, M+1, size=n)\n",
        "\n",
        "\n",
        "def is_non_orthogonal(v, vectors):\n",
        "  \"\"\"Проверка, что точка v не попадает ни на одну из гиперплоскостей\"\"\"\n",
        "  if np.any(np.isclose(np.dot(vectors, v),0)):\n",
        "    return False\n",
        "  else:\n",
        "    return True\n",
        "\n",
        "def rand_l1_algo(n, vectors, M, max_attempts=10):\n",
        "    \"\"\"Поиск целочисленного вектора, не ортогонального ни одному вектору из списка, ограниченного нормой M.\"\"\"\n",
        "    for _ in range(max_attempts):\n",
        "        v = sample_point(n, M)\n",
        "        if is_non_orthogonal(v, vectors):\n",
        "          return v\n",
        "\n",
        "# Функция для измерения времени поиска\n",
        "def measure_time(algorithm, n, vectors, M, max_attempts=10):\n",
        "    if algorithm == 'rand_l1':\n",
        "      start_time = perf_counter()\n",
        "      v = rand_l1_algo(n, vectors, M, max_attempts=max_attempts)\n",
        "      process_time = perf_counter() - start_time\n",
        "      if v is not None:\n",
        "        norm = np.max(np.abs(v))\n",
        "      else:\n",
        "        norm = M\n",
        "      return process_time, norm\n",
        "    if algorithm == 'det_l1':\n",
        "      start_time = perf_counter()\n",
        "      v = determinated_l1_algo_v2(vectors)\n",
        "      process_time = perf_counter() - start_time\n",
        "      if v is not None:\n",
        "        norm = np.max(np.abs(v))\n",
        "      else:\n",
        "        norm = M\n",
        "      return process_time, norm"
      ]
    },
    {
      "cell_type": "code",
      "source": [],
      "metadata": {
        "id": "7bJ3ciCihgnH"
      },
      "execution_count": null,
      "outputs": []
    }
  ]
}