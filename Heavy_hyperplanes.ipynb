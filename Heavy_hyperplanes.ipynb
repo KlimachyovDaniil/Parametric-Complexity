{
  "nbformat": 4,
  "nbformat_minor": 0,
  "metadata": {
    "colab": {
      "provenance": [],
      "authorship_tag": "ABX9TyNLQrjIoAr4EEAjdpmIDBXN",
      "include_colab_link": true
    },
    "kernelspec": {
      "name": "python3",
      "display_name": "Python 3"
    },
    "language_info": {
      "name": "python"
    }
  },
  "cells": [
    {
      "cell_type": "markdown",
      "metadata": {
        "id": "view-in-github",
        "colab_type": "text"
      },
      "source": [
        "<a href=\"https://colab.research.google.com/github/KlimachyovDaniil/Parametric-Complexity/blob/main/Heavy_hyperplanes.ipynb\" target=\"_parent\"><img src=\"https://colab.research.google.com/assets/colab-badge.svg\" alt=\"Open In Colab\"/></a>"
      ]
    },
    {
      "cell_type": "code",
      "execution_count": null,
      "metadata": {
        "id": "LsJwWeDit257"
      },
      "outputs": [],
      "source": [
        "from functools import reduce\n",
        "\n",
        "\n",
        "def normalize(v):\n",
        "  #НОД, получаем направление\n",
        "  d = reduce(lambda a, b: np.gcd(a, b), v)\n",
        "  # d = np.gcd.reduce(v)\n",
        "  if d > 1:\n",
        "    v, _ = np.divmod(v, d)\n",
        "  first_neg_i = -1\n",
        "  for i in range(len(v)):\n",
        "    if v[i] != 0:\n",
        "      if v[i] < 0:\n",
        "        first_neg_i = i\n",
        "      break\n",
        "  if first_neg_i != -1:\n",
        "    v = np.multiply(v, -1)\n",
        "  return v\n",
        "\n",
        "\n",
        "def generate_vectors_via_sums(n, m):\n",
        "  if n == 1:\n",
        "    return [[1]]\n",
        "  hyperplane_dict = []\n",
        "  hyp_set = set()\n",
        "  for _ in range(n):\n",
        "    plane = np.array([0 for i in range(n)])\n",
        "    plane[_] = 1\n",
        "    hyperplane_dict.append(plane)\n",
        "    hyp_set.add(tuple(plane))\n",
        "    if _ == m - 1:\n",
        "      return hyperplane_dict\n",
        "  start = 0\n",
        "  num1=len(hyperplane_dict)\n",
        "  num2=len(hyperplane_dict)\n",
        "  while len(hyp_set) < m:\n",
        "    for i in range(n):\n",
        "      if len(hyp_set) >= m:\n",
        "        break\n",
        "      for j in range(num1 - 1, start - 1,-1):\n",
        "        if j == i:\n",
        "          continue\n",
        "        vector = hyperplane_dict[i] - hyperplane_dict[j]\n",
        "        if tuple(normalize(vector)) not in hyp_set:\n",
        "          # print(vector)\n",
        "          hyperplane_dict.append(vector)\n",
        "          hyp_set.add(tuple(normalize(vector)))\n",
        "          num2+=1\n",
        "        if len(hyp_set) >= m:\n",
        "          break\n",
        "        vector = hyperplane_dict[i] + hyperplane_dict[j]\n",
        "        if tuple(normalize(vector)) not in hyp_set:\n",
        "          # print(vector)\n",
        "          hyperplane_dict.append(vector)\n",
        "          hyp_set.add(tuple(normalize(vector)))\n",
        "          num2+=1\n",
        "        if len(hyp_set) >= m:\n",
        "          break\n",
        "    start = num1\n",
        "    num1 = num2\n",
        "  return hyperplane_dict"
      ]
    }
  ]
}